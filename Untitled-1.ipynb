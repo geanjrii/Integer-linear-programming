{
 "cells": [
  {
   "attachments": {},
   "cell_type": "markdown",
   "metadata": {},
   "source": [
    "# Aula prática: Programação Linear Inteira"
   ]
  },
  {
   "attachments": {},
   "cell_type": "markdown",
   "metadata": {},
   "source": [
    "## Exercício 1\n",
    "<sup>Exercício 3.7 do livro `Pesquisa Operacional` de `Arenales, Armentano, Morabito e Yanasse`.</sup>"
   ]
  },
  {
   "attachments": {},
   "cell_type": "markdown",
   "metadata": {},
   "source": [
    "### Descrição do problema\n",
    "Em cada dia da semana, uma loja requer um número de empregados em tempo integral, de acordo com a tabela abaixo. Cada empregado deve trabalhar cinco dias consecutivos e descansar dois. Cada empregado recebe R$30 por dia.\n",
    "\n",
    "| | Segunda | Terça | Quarta | Quinta | Sexta | Sabádo | Domingo |\n",
    "|:---|:---:|:---:|:---:|:---:|:---:|:---:|:---:|\n",
    "| Empregados | 10 | 6 | 8 | 5 | 9 | 4 | 6 |\n",
    "\n",
    "Determine o número de empregados em tempo integral de forma a minimizar a despesa total com salários."
   ]
  },
  {
   "cell_type": "code",
   "execution_count": 1,
   "metadata": {},
   "outputs": [],
   "source": [
    "# instalação e importação do pacote mip\n",
    "from mip import *\n",
    "\n",
    "# funcões usadas posteriormente:\n",
    "\n",
    "# resolve o modelo e mostra os valores das variáveis\n",
    "def solve(model):\n",
    "  status = model.optimize()\n",
    "\n",
    "  print(\"Status = \", status)\n",
    "  print(f\"Solution value  = {model.objective_value:.2f}\\n\")\n",
    "  \n",
    "  print(\"Solution:\")\n",
    "  for v in model.vars:\n",
    "      print(f\"{v.name} = {v.x:.2f}\")\n",
    "\n",
    "\n",
    "# salva modelo em arquivo lp, e mostra o conteúdo\n",
    "def save(model, filename):\n",
    "  model.write(filename) # salva modelo em arquivo\n",
    "  with open(filename, \"r\") as f: # lê e exibe conteúdo do arquivo\n",
    "    print(f.read())"
   ]
  },
  {
   "attachments": {},
   "cell_type": "markdown",
   "metadata": {},
   "source": [
    "#### Dados\n",
    "$D = \\{0, 1, 2, 3, 4, 5, 6\\}$: conjunto de dias \\\\\n",
    "$e_d$: quantidade mínima de empregados no dia $d \\in D$ \\\\\n",
    "$D^*_d$: conjunto de dias que antecedem o dia $d$ em, no máximo, 5 dias. Isto é, se um funcionário começar a trabalhar em um dia $p \\in D^*_d$, então ele também trabalhará no dia $d$. Observe que o próprio $d$ pertence a $D^*_d$.\n"
   ]
  },
  {
   "cell_type": "code",
   "execution_count": 2,
   "metadata": {},
   "outputs": [],
   "source": [
    "D = range(7)\n",
    "e = [10, 6, 8, 5, 9, 4, 6]\n",
    "\n",
    "def Dstar(d):\n",
    "  p = d + 2  # before first day\n",
    "  for _ in range(5):\n",
    "    p = (p + 1) % 7\n",
    "    yield p\n",
    "  "
   ]
  },
  {
   "attachments": {},
   "cell_type": "markdown",
   "metadata": {},
   "source": [
    "#### Variável\n",
    "$x_d$: quantidade de empregados que começam a trabalhar no dia $d \\in D$ \\\\\n",
    "\n",
    "#### Modelo\n",
    "\n",
    "$$\\min \\sum_{d \\in D} x_d$$\n",
    "s.t.\n",
    "$$\\sum_{p \\in D^*_d} x_p \\geq e_d; \\forall d \\in D$$\n",
    "$$x_d \\geq 0; \\forall d \\in D$$\n",
    "$$x_d \\in \\mathbb{Z}; \\forall d \\in D$$\n"
   ]
  },
  {
   "cell_type": "code",
   "execution_count": 3,
   "metadata": {},
   "outputs": [
    {
     "name": "stdout",
     "output_type": "stream",
     "text": [
      "\\Problem name: \n",
      "\n",
      "Minimize\n",
      "OBJROW: x_0 + x_1 + x_2 + x_3 + x_4 + x_5 + x_6\n",
      "Subject To\n",
      "constr(0):  x_0 + x_3 + x_4 + x_5 + x_6 >= 10\n",
      "constr(1):  x_0 + x_1 + x_4 + x_5 + x_6 >= 6\n",
      "constr(2):  x_0 + x_1 + x_2 + x_5 + x_6 >= 8\n",
      "constr(3):  x_0 + x_1 + x_2 + x_3 + x_6 >= 5\n",
      "constr(4):  x_0 + x_1 + x_2 + x_3 + x_4 >= 9\n",
      "constr(5):  x_1 + x_2 + x_3 + x_4 + x_5 >= 4\n",
      "constr(6):  x_2 + x_3 + x_4 + x_5 + x_6 >= 6\n",
      "Bounds\n",
      "Integers\n",
      "x_0 x_1 x_2 x_3 x_4 x_5 x_6 \n",
      "End\n",
      "\n"
     ]
    }
   ],
   "source": [
    "model = Model(sense=MINIMIZE, solver_name=CBC)\n",
    "\n",
    "x = [model.add_var(var_type=INTEGER, name=f\"x_{d}\", lb=0) for d in D]\n",
    "\n",
    "model.objective = xsum(x[d] for d in D)\n",
    "\n",
    "for d in D:\n",
    "  model += xsum(x[p] for p in Dstar(d)) >= e[d]\n",
    "\n",
    "save(model, \"model.lp\")"
   ]
  },
  {
   "cell_type": "code",
   "execution_count": 4,
   "metadata": {},
   "outputs": [
    {
     "name": "stdout",
     "output_type": "stream",
     "text": [
      "Welcome to the CBC MILP Solver \n",
      "Version: Trunk\n",
      "Build Date: Oct 24 2021 \n",
      "\n",
      "Starting solution of the Linear programming relaxation problem using Primal Simplex\n",
      "\n",
      "Coin0506I Presolve 7 (0) rows, 7 (0) columns and 35 (0) elements\n",
      "Clp1000I sum of infeasibilities 7.41629e-12 - average 1.05947e-12, 0 fixed columns\n",
      "Coin0506I Presolve 7 (0) rows, 7 (0) columns and 35 (0) elements\n",
      "Clp0029I End of values pass after 7 iterations\n",
      "Clp0000I Optimal - objective value 11\n",
      "Clp0000I Optimal - objective value 11\n",
      "Clp0000I Optimal - objective value 11\n",
      "Clp0032I Optimal objective 11 - 0 iterations time 0.002, Idiot 0.00\n",
      "\n",
      "Starting MIP optimization\n",
      "Cgl0003I 0 fixed, 7 tightened bounds, 0 strengthened rows, 0 substitutions\n",
      "Cgl0004I processed model has 7 rows, 7 columns (7 integer (0 of which binary)) and 35 elements\n",
      "Coin3009W Conflict graph built in 0.000 seconds, density: 0.000%\n",
      "Cgl0015I Clique Strengthening extended 0 cliques, 0 were dominated\n",
      "Cbc0045I Nauty did not find any useful orbits in time 6.9e-05\n",
      "Cbc0012I Integer solution of 11 found by greedy cover after 0 iterations and 0 nodes (0.01 seconds)\n",
      "Cbc0001I Search completed - best objective 11, took 0 iterations and 0 nodes (0.01 seconds)\n",
      "Cbc0035I Maximum depth 0, 0 variables fixed on reduced cost\n",
      "Total time (CPU seconds):       0.00   (Wallclock seconds):       0.01\n",
      "\n",
      "Status =  OptimizationStatus.OPTIMAL\n",
      "Solution value  = 11.00\n",
      "\n",
      "Solution:\n",
      "x_0 = 5.00\n",
      "x_1 = 0.00\n",
      "x_2 = 1.00\n",
      "x_3 = 3.00\n",
      "x_4 = 0.00\n",
      "x_5 = 2.00\n",
      "x_6 = 0.00\n"
     ]
    }
   ],
   "source": [
    "solve(model)"
   ]
  },
  {
   "attachments": {},
   "cell_type": "markdown",
   "metadata": {},
   "source": [
    "## Exercício 2\n",
    "<sup>Exercício da lista do Professor Marcone Jamilson (UFOP)</sup>"
   ]
  },
  {
   "attachments": {},
   "cell_type": "markdown",
   "metadata": {},
   "source": [
    "### Descrição do problema\n",
    "Uma serralheria dispõe de barras de 6 metros de comprimento que devem ser cortadas para obter barras menores nos seguintes tamanhos: 50 barras de 2 metros, 60 barras de 3 metros e 90 barras de 4 metros. Elabore um modelo de programação linear inteira que minimize as perdas com os cortes.\n",
    "\n",
    "Dica: enumere as possíveis formas de se cortar uma barra de 6 metros em barras menores dos tamanhos listados acima."
   ]
  },
  {
   "attachments": {},
   "cell_type": "markdown",
   "metadata": {},
   "source": [
    "Neste exercício, precisaremos construir uma tabela, a partir das informações disponíveis no enunciado, que indique cada uma das maneiras de cortar a barra de 6 metros e quantas barras menores cada um desses cortes fornecerá:\n",
    "\n",
    "| | Barra 2m | Barra 3m | Barra 4m | Resto |\n",
    "|:---|:---:|:---:|:---:|:---:|\n",
    "| Corte 1 | 3 | 0 | 0 | 0 |\n",
    "| Corte 2 | 1 | 1 | 0 | 1 |\n",
    "| Corte 3 | 1 | 0 | 1 | 0 |\n",
    "| Corte 4 | 0 | 2 | 0 | 0 |"
   ]
  },
  {
   "attachments": {},
   "cell_type": "markdown",
   "metadata": {},
   "source": [
    "#### Modelo\n",
    "\n",
    "$x_i$: quantidade do corte $i$ realizado. \\\\\n",
    "\n",
    "$$\\min x_1 + x_2 + x_3 + x_4$$\n",
    "s.t.\n",
    "\n",
    "$$3 x_1 + x_2 + x_3 \\geq 50$$\n",
    "$$x_2 + 2 x_4 \\geq 60$$\n",
    "$$x_3 \\geq 90$$\n",
    "$$x \\geq 0$$\n",
    "$$x \\in \\mathbb{Z}$$\n",
    "\n",
    "No modelo acima, $x$ é o vetor de variáveis, ou seja, $x=(x_1,x_2,x_3,x_4)$. Logo, as duas últimas restrições do modelo determinam que as quatro variáveis devem assumir valores inteiros não negativos."
   ]
  },
  {
   "cell_type": "code",
   "execution_count": 7,
   "metadata": {},
   "outputs": [
    {
     "name": "stdout",
     "output_type": "stream",
     "text": [
      "\\Problem name: \n",
      "\n",
      "Minimize\n",
      "OBJROW: x_1 + x_2 + x_3 + x_4\n",
      "Subject To\n",
      "constr(0):  3 x_1 + x_2 + x_3 >= 50\n",
      "constr(1):  x_2 + 2 x_4 >= 60\n",
      "constr(2):  x_3 >= 90\n",
      "Bounds\n",
      "Integers\n",
      "x_1 x_2 x_3 x_4 \n",
      "End\n",
      "\n"
     ]
    }
   ],
   "source": [
    "model = Model(sense=MINIMIZE, solver_name=CBC)\n",
    "\n",
    "x = [None] + [model.add_var(var_type=INTEGER, name=f\"x_{i}\", lb=0) for i in range(1, 5)]\n",
    "\n",
    "model.objective = x[1] + x[2] + x[3] + x[4]\n",
    "\n",
    "model += 3*x[1] + x[2] + x[3] >= 50\n",
    "model += x[2] + 2*x[4] >= 60\n",
    "model += x[3] >= 90\n",
    "\n",
    "save(model, \"model2.lp\")"
   ]
  },
  {
   "cell_type": "code",
   "execution_count": 8,
   "metadata": {},
   "outputs": [
    {
     "name": "stdout",
     "output_type": "stream",
     "text": [
      "Starting solution of the Linear programming relaxation problem using Primal Simplex\n",
      "\n",
      "Coin0506I Presolve 0 (-3) rows, 0 (-4) columns and 0 (-6) elements\n",
      "Clp0000I Optimal - objective value 120\n",
      "Coin0511I After Postsolve, objective 120, infeasibilities - dual 0 (0), primal 0 (0)\n",
      "Clp0032I Optimal objective 120 - 0 iterations time 0.002, Presolve 0.00, Idiot 0.00\n",
      "\n",
      "Starting MIP optimization\n",
      "Cgl0003I 0 fixed, 2 tightened bounds, 0 strengthened rows, 0 substitutions\n",
      "Cgl0004I processed model has 1 rows, 2 columns (2 integer (0 of which binary)) and 2 elements\n",
      "Coin3009W Conflict graph built in 0.000 seconds, density: 0.000%\n",
      "Cgl0015I Clique Strengthening extended 0 cliques, 0 were dominated\n",
      "Cbc0045I Nauty did not find any useful orbits in time 8e-06\n",
      "Cbc0012I Integer solution of 120 found by greedy cover after 0 iterations and 0 nodes (0.00 seconds)\n",
      "Cbc0001I Search completed - best objective 120, took 0 iterations and 0 nodes (0.00 seconds)\n",
      "Cbc0035I Maximum depth 0, 0 variables fixed on reduced cost\n",
      "Total time (CPU seconds):       0.00   (Wallclock seconds):       0.00\n",
      "\n",
      "Status =  OptimizationStatus.OPTIMAL\n",
      "Solution value  = 120.00\n",
      "\n",
      "Solution:\n",
      "x_1 = 0.00\n",
      "x_2 = 0.00\n",
      "x_3 = 90.00\n",
      "x_4 = 30.00\n"
     ]
    }
   ],
   "source": [
    "solve(model)"
   ]
  },
  {
   "cell_type": "code",
   "execution_count": null,
   "metadata": {},
   "outputs": [],
   "source": []
  }
 ],
 "metadata": {
  "kernelspec": {
   "display_name": "Python 3",
   "language": "python",
   "name": "python3"
  },
  "language_info": {
   "codemirror_mode": {
    "name": "ipython",
    "version": 3
   },
   "file_extension": ".py",
   "mimetype": "text/x-python",
   "name": "python",
   "nbconvert_exporter": "python",
   "pygments_lexer": "ipython3",
   "version": "3.10.6"
  },
  "orig_nbformat": 4
 },
 "nbformat": 4,
 "nbformat_minor": 2
}
